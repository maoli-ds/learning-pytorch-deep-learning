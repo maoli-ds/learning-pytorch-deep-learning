{
 "cells": [
  {
   "cell_type": "code",
   "execution_count": 6,
   "id": "d81729d5",
   "metadata": {},
   "outputs": [],
   "source": [
    "import torch\n",
    "import numpy as np\n",
    "import matplotlib.pyplot as plt\n",
    "from sklearn.preprocessing import StandardScaler\n",
    "from sklearn.model_selection import train_test_split"
   ]
  },
  {
   "cell_type": "code",
   "execution_count": 56,
   "id": "58260dd9",
   "metadata": {},
   "outputs": [
    {
     "name": "stdout",
     "output_type": "stream",
     "text": [
      "[6.32323843 3.11696186 9.51080772 1.67263503 1.79715658]\n"
     ]
    }
   ],
   "source": [
    "X = np.random.uniform(low=-20, high=100, size = (10000, 5))\n",
    "beta = np.random.uniform(low=1, high=10, size=5)\n",
    "\n",
    "epsilon = np.random.normal(scale=3, size=10000)\n",
    "y = np.dot(X, beta) + epsilon\n",
    "\n",
    "print(beta)"
   ]
  },
  {
   "cell_type": "code",
   "execution_count": 57,
   "id": "4c081526",
   "metadata": {},
   "outputs": [],
   "source": [
    "X_train, X_test, y_train, y_test = train_test_split(X, y, test_size=0.2, random_state=91)\n",
    "\n",
    "#scaler = StandardScaler()\n",
    "#X_train = scaler.fit_transform(X_train)\n",
    "#X_test = scaler.transform(X_test)"
   ]
  },
  {
   "cell_type": "code",
   "execution_count": 58,
   "id": "d054edef",
   "metadata": {},
   "outputs": [],
   "source": [
    "X_train = torch.from_numpy(X_train).float()\n",
    "X_test = torch.from_numpy(X_test).float()\n",
    "\n",
    "y_train = torch.from_numpy(y_train).float()\n",
    "\n",
    "y_test = torch.from_numpy(y_test).float()"
   ]
  },
  {
   "cell_type": "code",
   "execution_count": 59,
   "id": "046e232e",
   "metadata": {},
   "outputs": [],
   "source": [
    "from torch.utils.data import TensorDataset\n",
    "from torch.utils.data import DataLoader\n",
    "\n",
    "batch_size = 20\n",
    "\n",
    "train = TensorDataset(X_train, y_train)\n",
    "\n",
    "test = TensorDataset(X_test, y_test)\n",
    "\n",
    "train_batched = DataLoader(train, batch_size, shuffle=True)\n",
    "\n",
    "test_batched = DataLoader(test, batch_size, shuffle=True)"
   ]
  },
  {
   "cell_type": "code",
   "execution_count": 60,
   "id": "c2e06272",
   "metadata": {},
   "outputs": [],
   "source": [
    "import torch.nn as nn\n",
    "\n",
    "input_size = 5\n",
    "output_size = 1\n",
    "\n",
    "model = nn.Linear(input_size, output_size)\n",
    "\n",
    "loss_func = nn.MSELoss(reduction='mean')\n",
    "\n",
    "optimizer = torch.optim.Adam(model.parameters(), lr=0.05)"
   ]
  },
  {
   "cell_type": "code",
   "execution_count": 61,
   "id": "03be9e0c",
   "metadata": {},
   "outputs": [
    {
     "name": "stdout",
     "output_type": "stream",
     "text": [
      "The current epoch is 5, loss is 13.781614303588867\n",
      "The current epoch is 10, loss is 9.486339569091797\n",
      "The current epoch is 15, loss is 11.05943489074707\n",
      "The current epoch is 20, loss is 8.779120445251465\n",
      "The current epoch is 25, loss is 11.917920112609863\n",
      "The current epoch is 30, loss is 11.732168197631836\n",
      "The current epoch is 35, loss is 7.73874568939209\n",
      "The current epoch is 40, loss is 19.633811950683594\n",
      "The current epoch is 45, loss is 14.283849716186523\n",
      "The current epoch is 50, loss is 11.409270286560059\n",
      "The current epoch is 55, loss is 14.325010299682617\n",
      "The current epoch is 60, loss is 20.812524795532227\n",
      "The current epoch is 65, loss is 31.796804428100586\n",
      "The current epoch is 70, loss is 9.81745433807373\n",
      "The current epoch is 75, loss is 6.565893650054932\n",
      "The current epoch is 80, loss is 12.615991592407227\n",
      "The current epoch is 85, loss is 10.769867897033691\n",
      "The current epoch is 90, loss is 12.229879379272461\n",
      "The current epoch is 95, loss is 11.047857284545898\n",
      "The current epoch is 100, loss is 12.97813892364502\n",
      "The current epoch is 105, loss is 18.159420013427734\n",
      "The current epoch is 110, loss is 7.141161918640137\n",
      "The current epoch is 115, loss is 7.016076564788818\n",
      "The current epoch is 120, loss is 8.314899444580078\n",
      "The current epoch is 125, loss is 7.010323524475098\n",
      "The current epoch is 130, loss is 9.280959129333496\n",
      "The current epoch is 135, loss is 12.186999320983887\n",
      "The current epoch is 140, loss is 11.979331970214844\n",
      "The current epoch is 145, loss is 14.479634284973145\n",
      "The current epoch is 150, loss is 12.961969375610352\n",
      "The current epoch is 155, loss is 20.78938865661621\n",
      "The current epoch is 160, loss is 8.7626314163208\n",
      "The current epoch is 165, loss is 9.2969388961792\n",
      "The current epoch is 170, loss is 10.724493026733398\n",
      "The current epoch is 175, loss is 9.835897445678711\n",
      "The current epoch is 180, loss is 8.102316856384277\n",
      "The current epoch is 185, loss is 18.546314239501953\n",
      "The current epoch is 190, loss is 6.5263566970825195\n",
      "The current epoch is 195, loss is 10.402956008911133\n",
      "The current epoch is 200, loss is 13.619384765625\n"
     ]
    }
   ],
   "source": [
    "for epoch in range(1,201):\n",
    "    for x_batch, y_batch in train_batched:\n",
    "        y_pred = model(x_batch)[:,0]\n",
    "        loss = loss_func(y_pred, y_batch)\n",
    "        loss.backward()\n",
    "        optimizer.step()\n",
    "        optimizer.zero_grad()\n",
    "    if epoch%5==0:\n",
    "        print('The current epoch is {}, loss is {}'.format(epoch, loss.item()))\n",
    "        \n",
    "        "
   ]
  },
  {
   "cell_type": "code",
   "execution_count": 62,
   "id": "4064f522",
   "metadata": {},
   "outputs": [
    {
     "name": "stdout",
     "output_type": "stream",
     "text": [
      "weight Parameter containing:\n",
      "tensor([[6.3423, 3.0823, 9.5095, 1.6847, 1.7937]], requires_grad=True)\n",
      "bias Parameter containing:\n",
      "tensor([0.0276], requires_grad=True)\n"
     ]
    }
   ],
   "source": [
    "for name, param in model.named_parameters():\n",
    "    print(name, param)\n"
   ]
  }
 ],
 "metadata": {
  "kernelspec": {
   "display_name": "Python 3",
   "language": "python",
   "name": "python3"
  },
  "language_info": {
   "codemirror_mode": {
    "name": "ipython",
    "version": 3
   },
   "file_extension": ".py",
   "mimetype": "text/x-python",
   "name": "python",
   "nbconvert_exporter": "python",
   "pygments_lexer": "ipython3",
   "version": "3.8.8"
  }
 },
 "nbformat": 4,
 "nbformat_minor": 5
}
